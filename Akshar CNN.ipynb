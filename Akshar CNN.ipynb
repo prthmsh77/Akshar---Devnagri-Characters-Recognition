{
 "cells": [
  {
   "cell_type": "code",
   "execution_count": 1,
   "id": "db7ea20b",
   "metadata": {},
   "outputs": [],
   "source": [
    "import tensorflow as tf\n",
    "from tensorflow import keras \n",
    "import matplotlib.pyplot as plt\n",
    "%matplotlib inline\n",
    "import numpy as np\n",
    "import pandas as pd\n",
    "from sklearn.preprocessing import LabelEncoder\n",
    "from sklearn.model_selection import train_test_split\n",
    "import os\n",
    "import PIL"
   ]
  },
  {
   "cell_type": "code",
   "execution_count": 5,
   "id": "727c53cd",
   "metadata": {},
   "outputs": [],
   "source": [
    "import cv2 as cv"
   ]
  },
  {
   "cell_type": "code",
   "execution_count": 3,
   "id": "85f93658",
   "metadata": {},
   "outputs": [
    {
     "data": {
      "text/plain": [
       "['character_10_yna',\n",
       " 'character_11_taamatar',\n",
       " 'character_12_thaa',\n",
       " 'character_13_daa',\n",
       " 'character_14_dhaa',\n",
       " 'character_15_adna',\n",
       " 'character_16_tabala',\n",
       " 'character_17_tha',\n",
       " 'character_18_da',\n",
       " 'character_19_dha',\n",
       " 'character_1_ka',\n",
       " 'character_20_na',\n",
       " 'character_21_pa',\n",
       " 'character_22_pha',\n",
       " 'character_23_ba',\n",
       " 'character_24_bha',\n",
       " 'character_25_ma',\n",
       " 'character_26_yaw',\n",
       " 'character_27_ra',\n",
       " 'character_28_la',\n",
       " 'character_29_waw',\n",
       " 'character_2_kha',\n",
       " 'character_30_motosaw',\n",
       " 'character_31_petchiryakha',\n",
       " 'character_32_patalosaw',\n",
       " 'character_33_ha',\n",
       " 'character_34_chhya',\n",
       " 'character_35_tra',\n",
       " 'character_36_gya',\n",
       " 'character_3_ga',\n",
       " 'character_4_gha',\n",
       " 'character_5_kna',\n",
       " 'character_6_cha',\n",
       " 'character_7_chha',\n",
       " 'character_8_ja',\n",
       " 'character_9_jha',\n",
       " 'digit_0',\n",
       " 'digit_1',\n",
       " 'digit_2',\n",
       " 'digit_3',\n",
       " 'digit_4',\n",
       " 'digit_5',\n",
       " 'digit_6',\n",
       " 'digit_7',\n",
       " 'digit_8',\n",
       " 'digit_9']"
      ]
     },
     "execution_count": 3,
     "metadata": {},
     "output_type": "execute_result"
    }
   ],
   "source": [
    "path = 'DevanagariHandwrittenCharacterDataset/Train/'\n",
    "files = os.listdir(path)\n",
    "files"
   ]
  },
  {
   "cell_type": "code",
   "execution_count": 4,
   "id": "799fe6c8",
   "metadata": {},
   "outputs": [],
   "source": [
    "X = []\n",
    "Y = []\n",
    "for cl in files:\n",
    "    pth = path+cl\n",
    "    for img in os.listdir(pth):\n",
    "        img = cv.imread(pth+\"/\"+img,0)\n",
    "        X.append(img)\n",
    "        Y.append(cl)"
   ]
  },
  {
   "cell_type": "code",
   "execution_count": 5,
   "id": "c9edf386",
   "metadata": {},
   "outputs": [],
   "source": [
    "Testpath = 'DevanagariHandwrittenCharacterDataset/Test/'\n",
    "Testfiles = os.listdir(Testpath)\n",
    "Testpath\n",
    "for cl in Testfiles:\n",
    "    pth = Testpath+cl\n",
    "    for img in os.listdir(pth):\n",
    "        img = cv.imread(pth+\"/\"+img,0)\n",
    "        X.append(img)\n",
    "        Y.append(cl)"
   ]
  },
  {
   "cell_type": "code",
   "execution_count": 11,
   "id": "0c09c6f8",
   "metadata": {},
   "outputs": [
    {
     "data": {
      "text/plain": [
       "(92000, 32, 32)"
      ]
     },
     "execution_count": 11,
     "metadata": {},
     "output_type": "execute_result"
    }
   ],
   "source": [
    "X.shape"
   ]
  },
  {
   "cell_type": "code",
   "execution_count": 7,
   "id": "706a0a4b",
   "metadata": {},
   "outputs": [
    {
     "data": {
      "text/plain": [
       "<matplotlib.image.AxesImage at 0x1af2b2872b0>"
      ]
     },
     "execution_count": 7,
     "metadata": {},
     "output_type": "execute_result"
    },
    {
     "data": {
      "image/png": "[encoded data removed]",
      "text/plain": [
       "<Figure size 432x288 with 1 Axes>"
      ]
     },
     "metadata": {
      "needs_background": "light"
     },
     "output_type": "display_data"
    }
   ],
   "source": [
    "le = LabelEncoder()\n",
    "Y = le.fit_transform(Y)\n",
    "X = np.array(X)\n",
    "Y = np.array(Y)\n",
    "plt.imshow(X[0],cmap = 'gray')"
   ]
  },
  {
   "cell_type": "code",
   "execution_count": 8,
   "id": "27c66534",
   "metadata": {},
   "outputs": [],
   "source": [
    "model = keras.Sequential([\n",
    "    keras.layers.Conv2D(filters=32,kernel_size=(3,3),activation='relu',input_shape = (32,32,1),padding='same'),\n",
    "    keras.layers.Conv2D(filters=32,kernel_size=(3,3),activation='relu',padding='same'),\n",
    "    keras.layers.MaxPooling2D((2,2)),\n",
    "    keras.layers.Dropout(0.25),\n",
    "    keras.layers.Conv2D(filters=64,kernel_size=(3,3),activation='relu',padding='same'),\n",
    "    keras.layers.Conv2D(filters=64,kernel_size=(3,3),activation='relu',padding='same'),\n",
    "    keras.layers.MaxPooling2D((2,2)),\n",
    "    keras.layers.Dropout(0.25),\n",
    "    keras.layers.Conv2D(filters=128,kernel_size=(3,3),activation='relu',padding='same'),\n",
    "    keras.layers.Conv2D(filters=128,kernel_size=(3,3),activation='relu',padding='same'),\n",
    "    keras.layers.MaxPooling2D((2,2)),\n",
    "    keras.layers.Dropout(0.25),\n",
    "    keras.layers.Flatten(),\n",
    "    keras.layers.Dense(128,activation ='relu'),\n",
    "    keras.layers.Dropout(0.25),\n",
    "    keras.layers.Dense(46,activation ='softmax')\n",
    "])"
   ]
  },
  {
   "cell_type": "code",
   "execution_count": 9,
   "id": "d520a199",
   "metadata": {},
   "outputs": [],
   "source": [
    "X = X.reshape(len(X),32,32)/255"
   ]
  },
  {
   "cell_type": "code",
   "execution_count": 10,
   "id": "97a7c482",
   "metadata": {},
   "outputs": [],
   "source": [
    "model.compile(\n",
    "    optimizer = 'adam',\n",
    "    loss = 'sparse_categorical_crossentropy',\n",
    "    metrics = ['accuracy']\n",
    ")"
   ]
  },
  {
   "cell_type": "code",
   "execution_count": 9,
   "id": "3a5c6d1b",
   "metadata": {},
   "outputs": [],
   "source": [
    "X_train,X_test,Y_train,Y_test = train_test_split(X,Y,test_size=0.2)"
   ]
  },
  {
   "cell_type": "code",
   "execution_count": 10,
   "id": "fc6b90db",
   "metadata": {},
   "outputs": [
    {
     "data": {
      "text/plain": [
       "(73600, 32, 32)"
      ]
     },
     "execution_count": 10,
     "metadata": {},
     "output_type": "execute_result"
    }
   ],
   "source": [
    "X_train.shape"
   ]
  },
  {
   "cell_type": "code",
   "execution_count": 12,
   "id": "e335616c",
   "metadata": {},
   "outputs": [
    {
     "name": "stdout",
     "output_type": "stream",
     "text": [
      "Epoch 1/10\n",
      "2300/2300 [==============================] - 301s 130ms/step - loss: 0.7838 - accuracy: 0.7750\n",
      "Epoch 2/10\n",
      "2300/2300 [==============================] - 270s 118ms/step - loss: 0.1863 - accuracy: 0.9443\n",
      "Epoch 3/10\n",
      "2300/2300 [==============================] - 289s 126ms/step - loss: 0.1315 - accuracy: 0.9608\n",
      "Epoch 4/10\n",
      "2300/2300 [==============================] - 735s 320ms/step - loss: 0.1051 - accuracy: 0.9687\n",
      "Epoch 5/10\n",
      "2300/2300 [==============================] - 278s 121ms/step - loss: 0.0915 - accuracy: 0.9727\n",
      "Epoch 6/10\n",
      "2300/2300 [==============================] - 290s 126ms/step - loss: 0.0792 - accuracy: 0.9758\n",
      "Epoch 7/10\n",
      "2300/2300 [==============================] - 610s 265ms/step - loss: 0.0723 - accuracy: 0.9781\n",
      "Epoch 8/10\n",
      "2300/2300 [==============================] - 279s 121ms/step - loss: 0.0675 - accuracy: 0.9796\n",
      "Epoch 9/10\n",
      "2300/2300 [==============================] - 288s 125ms/step - loss: 0.0604 - accuracy: 0.9821\n",
      "Epoch 10/10\n",
      "2300/2300 [==============================] - 422s 183ms/step - loss: 0.0611 - accuracy: 0.9812\n"
     ]
    },
    {
     "data": {
      "text/plain": [
       "<keras.callbacks.History at 0x23d198f1e20>"
      ]
     },
     "execution_count": 12,
     "metadata": {},
     "output_type": "execute_result"
    }
   ],
   "source": [
    "model.fit(X_train,Y_train,epochs = 10)"
   ]
  },
  {
   "cell_type": "code",
   "execution_count": 13,
   "id": "e2f866a5",
   "metadata": {},
   "outputs": [
    {
     "name": "stdout",
     "output_type": "stream",
     "text": [
      "575/575 [==============================] - 21s 31ms/step - loss: 0.0473 - accuracy: 0.9872\n",
      "0.9871739149093628 0.04733218252658844\n"
     ]
    }
   ],
   "source": [
    "loss,acc = model.evaluate(X_test,Y_test)\n",
    "print(acc,loss)"
   ]
  },
  {
   "cell_type": "code",
   "execution_count": null,
   "id": "a353597e",
   "metadata": {},
   "outputs": [],
   "source": []
  },
  {
   "cell_type": "code",
   "execution_count": 2,
   "id": "c0e5a472",
   "metadata": {},
   "outputs": [],
   "source": [
    "labels = ['character_10_yna','ट ','character_12_thaa','ड','ध','ण','त','थ','द','ध','क','न','प','फ','ब',\n",
    "          'भ','म','य','र','ल','व','ख','श','ष','स','ह','क्ष','त्र','ज्ञ','ग','घ','character_5_kna','च','छ',\n",
    "          'ज','झ','०','१','२','३','४','५','६','७','८','९']"
   ]
  },
  {
   "cell_type": "code",
   "execution_count": 3,
   "id": "d790955d",
   "metadata": {},
   "outputs": [],
   "source": [
    "model = tf.keras.models.load_model('AksharCnnNew')"
   ]
  },
  {
   "cell_type": "code",
   "execution_count": 11,
   "id": "1421a57e",
   "metadata": {},
   "outputs": [
    {
     "name": "stdout",
     "output_type": "stream",
     "text": [
      "1/1 [==============================] - 0s 61ms/step\n",
      "Prediction:र\n",
      "confidence:0.9996713399887085\n"
     ]
    },
    {
     "data": {
      "image/png": "[encoded data removed]",
      "text/plain": [
       "<Figure size 432x288 with 1 Axes>"
      ]
     },
     "metadata": {
      "needs_background": "light"
     },
     "output_type": "display_data"
    }
   ],
   "source": [
    "original_image = cv.imread('maPaint.png')\n",
    "resized_image = cv.resize(original_image, (32, 32))\n",
    "grayscale_image = cv.cvtColor(resized_image, cv.COLOR_BGR2GRAY)\n",
    "grayscale_image = np.invert(np.array(grayscale_image))/255\n",
    "plt.imshow(grayscale_image, cmap = plt.cm.binary)\n",
    "grayscale_image = np.array([grayscale_image])\n",
    "pred = model.predict(grayscale_image)\n",
    "\n",
    "if np.max(pred)> 0.9:\n",
    "    print(f'Prediction:{labels[np.argmax(pred)]}')\n",
    "elif 0.9>np.max(pred)> 0.5:\n",
    "     print(f'Is it {labels[np.argmax(pred)]} ?')\n",
    "else:\n",
    "    print('Unknown character')\n",
    "print(f'confidence:{np.max(pred)}')"
   ]
  },
  {
   "cell_type": "code",
   "execution_count": 102,
   "id": "5674193a",
   "metadata": {},
   "outputs": [
    {
     "name": "stderr",
     "output_type": "stream",
     "text": [
      "WARNING:absl:Found untraced functions such as _jit_compiled_convolution_op, _jit_compiled_convolution_op, _jit_compiled_convolution_op, _jit_compiled_convolution_op, _jit_compiled_convolution_op while saving (showing 5 of 6). These functions will not be directly callable after loading.\n"
     ]
    },
    {
     "name": "stdout",
     "output_type": "stream",
     "text": [
      "INFO:tensorflow:Assets written to: AksharCnnNew\\assets\n"
     ]
    },
    {
     "name": "stderr",
     "output_type": "stream",
     "text": [
      "INFO:tensorflow:Assets written to: AksharCnnNew\\assets\n"
     ]
    }
   ],
   "source": [
    "model.save('AksharCnnNew')\n"
   ]
  },
  {
   "cell_type": "code",
   "execution_count": null,
   "id": "8c8a76d1",
   "metadata": {},
   "outputs": [],
   "source": [
    "model = tf.keras.models.load_model('aksharCnn.model')"
   ]
  },
  {
   "cell_type": "code",
   "execution_count": null,
   "id": "aafc3d64",
   "metadata": {},
   "outputs": [],
   "source": []
  },
  {
   "cell_type": "code",
   "execution_count": null,
   "id": "a0974665",
   "metadata": {},
   "outputs": [],
   "source": []
  }
 ],
 "metadata": {
  "kernelspec": {
   "display_name": "Python 3 (ipykernel)",
   "language": "python",
   "name": "python3"
  },
  "language_info": {
   "codemirror_mode": {
    "name": "ipython",
    "version": 3
   },
   "file_extension": ".py",
   "mimetype": "text/x-python",
   "name": "python",
   "nbconvert_exporter": "python",
   "pygments_lexer": "ipython3",
   "version": "3.9.12"
  }
 },
 "nbformat": 4,
 "nbformat_minor": 5
}
